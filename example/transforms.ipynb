{
 "cells": [
  {
   "cell_type": "code",
   "execution_count": 1,
   "metadata": {},
   "outputs": [],
   "source": [
    "import sys, os\n",
    "\n",
    "# Enable importing pysparky\n",
    "sys.path.append(os.pardir)"
   ]
  },
  {
   "cell_type": "code",
   "execution_count": 2,
   "metadata": {},
   "outputs": [
    {
     "name": "stdout",
     "output_type": "stream",
     "text": [
      "3.5.2\n"
     ]
    },
    {
     "name": "stderr",
     "output_type": "stream",
     "text": [
      "24/09/24 15:25:55 WARN Utils: Your hostname, codespaces-0aafae resolves to a loopback address: 127.0.0.1; using 10.0.0.163 instead (on interface eth0)\n",
      "24/09/24 15:25:55 WARN Utils: Set SPARK_LOCAL_IP if you need to bind to another address\n",
      "Setting default log level to \"WARN\".\n",
      "To adjust logging level use sc.setLogLevel(newLevel). For SparkR, use setLogLevel(newLevel).\n",
      "24/09/24 15:25:56 WARN NativeCodeLoader: Unable to load native-hadoop library for your platform... using builtin-java classes where applicable\n"
     ]
    }
   ],
   "source": [
    "import pyspark\n",
    "from pyspark.sql import SparkSession, DataFrame, Column\n",
    "from pyspark.sql import functions as F, types as T\n",
    "\n",
    "print(pyspark.__version__)\n",
    "\n",
    "spark = SparkSession.builder.getOrCreate()"
   ]
  },
  {
   "cell_type": "code",
   "execution_count": 3,
   "metadata": {},
   "outputs": [
    {
     "data": {
      "text/html": [
       "<div>\n",
       "<style scoped>\n",
       "    .dataframe tbody tr th:only-of-type {\n",
       "        vertical-align: middle;\n",
       "    }\n",
       "\n",
       "    .dataframe tbody tr th {\n",
       "        vertical-align: top;\n",
       "    }\n",
       "\n",
       "    .dataframe thead th {\n",
       "        text-align: right;\n",
       "    }\n",
       "</style>\n",
       "<table border=\"1\" class=\"dataframe\">\n",
       "  <thead>\n",
       "    <tr style=\"text-align: right;\">\n",
       "      <th></th>\n",
       "      <th>first_name</th>\n",
       "      <th>last_name</th>\n",
       "      <th>address</th>\n",
       "      <th>region</th>\n",
       "      <th>code</th>\n",
       "      <th>postcode</th>\n",
       "    </tr>\n",
       "  </thead>\n",
       "  <tbody>\n",
       "    <tr>\n",
       "      <th>0</th>\n",
       "      <td>John</td>\n",
       "      <td>Doe</td>\n",
       "      <td>120 jefferson st.</td>\n",
       "      <td>Riverside</td>\n",
       "      <td>NJ</td>\n",
       "      <td>8075</td>\n",
       "    </tr>\n",
       "    <tr>\n",
       "      <th>1</th>\n",
       "      <td>Jack</td>\n",
       "      <td>McGinnis</td>\n",
       "      <td>220 hobo Av.</td>\n",
       "      <td>Phila</td>\n",
       "      <td>PA</td>\n",
       "      <td>9119</td>\n",
       "    </tr>\n",
       "    <tr>\n",
       "      <th>2</th>\n",
       "      <td>John \"Da Man\"</td>\n",
       "      <td>Repici</td>\n",
       "      <td>120 Jefferson St.</td>\n",
       "      <td>Riverside</td>\n",
       "      <td>NJ</td>\n",
       "      <td>8075</td>\n",
       "    </tr>\n",
       "    <tr>\n",
       "      <th>3</th>\n",
       "      <td>Stephen</td>\n",
       "      <td>Tyler</td>\n",
       "      <td>7452 Terrace \"At the Plaza\" road</td>\n",
       "      <td>SomeTown</td>\n",
       "      <td>SD</td>\n",
       "      <td>91234</td>\n",
       "    </tr>\n",
       "    <tr>\n",
       "      <th>4</th>\n",
       "      <td>NaN</td>\n",
       "      <td>Blankman</td>\n",
       "      <td>NaN</td>\n",
       "      <td>SomeTown</td>\n",
       "      <td>SD</td>\n",
       "      <td>298</td>\n",
       "    </tr>\n",
       "    <tr>\n",
       "      <th>5</th>\n",
       "      <td>Joan \"the bone\", Anne</td>\n",
       "      <td>Jet</td>\n",
       "      <td>9th, at Terrace plc</td>\n",
       "      <td>Desert City</td>\n",
       "      <td>CO</td>\n",
       "      <td>123</td>\n",
       "    </tr>\n",
       "  </tbody>\n",
       "</table>\n",
       "</div>"
      ],
      "text/plain": [
       "              first_name last_name                           address  \\\n",
       "0                   John       Doe                 120 jefferson st.   \n",
       "1                   Jack  McGinnis                      220 hobo Av.   \n",
       "2          John \"Da Man\"    Repici                 120 Jefferson St.   \n",
       "3                Stephen     Tyler  7452 Terrace \"At the Plaza\" road   \n",
       "4                    NaN  Blankman                               NaN   \n",
       "5  Joan \"the bone\", Anne       Jet               9th, at Terrace plc   \n",
       "\n",
       "        region code  postcode  \n",
       "0    Riverside   NJ      8075  \n",
       "1        Phila   PA      9119  \n",
       "2    Riverside   NJ      8075  \n",
       "3     SomeTown   SD     91234  \n",
       "4     SomeTown   SD       298  \n",
       "5  Desert City   CO       123  "
      ]
     },
     "execution_count": 3,
     "metadata": {},
     "output_type": "execute_result"
    }
   ],
   "source": [
    "import pandas as pd\n",
    "\n",
    "data_pdf = pd.read_csv(\n",
    "    \"https://people.sc.fsu.edu/~jburkardt/data/csv/addresses.csv\",\n",
    "    names=[\"first_name\", \"last_name\", \"address\", \"region\", \"code\", \"postcode\"],\n",
    ")\n",
    "data_sdf = spark.createDataFrame(data_pdf)"
   ]
  },
  {
   "cell_type": "code",
   "execution_count": 5,
   "metadata": {},
   "outputs": [
    {
     "name": "stderr",
     "output_type": "stream",
     "text": [
      "                                                                                \r"
     ]
    },
    {
     "name": "stdout",
     "output_type": "stream",
     "text": [
      "+--------------------+---------+--------------------+-----------+----+--------+\n",
      "|          first_name|last_name|             address|     region|code|postcode|\n",
      "+--------------------+---------+--------------------+-----------+----+--------+\n",
      "|                John|      Doe|   120 jefferson st.|  Riverside|  NJ|    8075|\n",
      "|                Jack| McGinnis|        220 hobo Av.|      Phila|  PA|    9119|\n",
      "|       John \"Da Man\"|   Repici|   120 Jefferson St.|  Riverside|  NJ|    8075|\n",
      "|             Stephen|    Tyler|7452 Terrace \"At ...|   SomeTown|  SD|   91234|\n",
      "|                 NaN| Blankman|                 NaN|   SomeTown|  SD|     298|\n",
      "|Joan \"the bone\", ...|      Jet| 9th, at Terrace plc|Desert City|  CO|     123|\n",
      "+--------------------+---------+--------------------+-----------+----+--------+\n",
      "\n"
     ]
    }
   ],
   "source": [
    "data_sdf.show()"
   ]
  },
  {
   "cell_type": "code",
   "execution_count": 22,
   "metadata": {},
   "outputs": [],
   "source": [
    "import functools\n",
    "from pysparky.transformation_ext import transforms, apply_cols\n",
    "from pysparky.schema_ext import filter_columns_by_datatype\n",
    "\n",
    "upper_cols_partial = functools.partial(apply_cols, col_func=F.upper)"
   ]
  },
  {
   "cell_type": "code",
   "execution_count": 23,
   "metadata": {},
   "outputs": [],
   "source": [
    "pipeline = (\n",
    "    (\n",
    "        upper_cols_partial,\n",
    "        {\"cols\": data_sdf.schema.filter_columns_by_datatype(T.StringType)},\n",
    "    ),\n",
    "    (lambda sdf: sdf.withColumn(\"postcode_plus_1\", F.col(\"postcode\") + 1), {}),\n",
    ")"
   ]
  },
  {
   "cell_type": "code",
   "execution_count": 24,
   "metadata": {},
   "outputs": [
    {
     "name": "stdout",
     "output_type": "stream",
     "text": [
      "+--------------------+---------+--------------------+-----------+----+--------+---------------+\n",
      "|          first_name|last_name|             address|     region|code|postcode|postcode_plus_1|\n",
      "+--------------------+---------+--------------------+-----------+----+--------+---------------+\n",
      "|                John|      Doe|   120 jefferson st.|  Riverside|  NJ|    8075|           8076|\n",
      "|                Jack| McGinnis|        220 hobo Av.|      Phila|  PA|    9119|           9120|\n",
      "|       John \"Da Man\"|   Repici|   120 Jefferson St.|  Riverside|  NJ|    8075|           8076|\n",
      "|             Stephen|    Tyler|7452 Terrace \"At ...|   SomeTown|  SD|   91234|          91235|\n",
      "|                 NaN| Blankman|                 NaN|   SomeTown|  SD|     298|            299|\n",
      "|Joan \"the bone\", ...|      Jet| 9th, at Terrace plc|Desert City|  CO|     123|            124|\n",
      "+--------------------+---------+--------------------+-----------+----+--------+---------------+\n",
      "\n"
     ]
    }
   ],
   "source": [
    "data_sdf.transforms(pipeline).show()"
   ]
  }
 ],
 "metadata": {
  "kernelspec": {
   "display_name": "Python 3",
   "language": "python",
   "name": "python3"
  },
  "language_info": {
   "codemirror_mode": {
    "name": "ipython",
    "version": 3
   },
   "file_extension": ".py",
   "mimetype": "text/x-python",
   "name": "python",
   "nbconvert_exporter": "python",
   "pygments_lexer": "ipython3",
   "version": "3.12.1"
  }
 },
 "nbformat": 4,
 "nbformat_minor": 2
}
