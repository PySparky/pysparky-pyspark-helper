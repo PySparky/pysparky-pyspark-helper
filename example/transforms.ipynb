{
 "cells": [
  {
   "cell_type": "code",
   "execution_count": 1,
   "metadata": {},
   "outputs": [],
   "source": [
    "import sys, os\n",
    "\n",
    "# Enable importing pysparky\n",
    "sys.path.append(os.pardir)"
   ]
  },
  {
   "cell_type": "code",
   "execution_count": 2,
   "metadata": {},
   "outputs": [
    {
     "name": "stdout",
     "output_type": "stream",
     "text": [
      "3.5.2\n"
     ]
    },
    {
     "name": "stderr",
     "output_type": "stream",
     "text": [
      "24/10/17 13:00:45 WARN Utils: Your hostname, codespaces-0aafae resolves to a loopback address: 127.0.0.1; using 10.0.10.27 instead (on interface eth0)\n",
      "24/10/17 13:00:45 WARN Utils: Set SPARK_LOCAL_IP if you need to bind to another address\n",
      "Setting default log level to \"WARN\".\n",
      "To adjust logging level use sc.setLogLevel(newLevel). For SparkR, use setLogLevel(newLevel).\n",
      "24/10/17 13:00:46 WARN NativeCodeLoader: Unable to load native-hadoop library for your platform... using builtin-java classes where applicable\n"
     ]
    }
   ],
   "source": [
    "import pyspark\n",
    "from pyspark.sql import SparkSession, DataFrame, Column\n",
    "from pyspark.sql import functions as F, types as T\n",
    "\n",
    "print(pyspark.__version__)\n",
    "\n",
    "spark = SparkSession.builder.getOrCreate()"
   ]
  },
  {
   "cell_type": "code",
   "execution_count": 3,
   "metadata": {},
   "outputs": [
    {
     "name": "stderr",
     "output_type": "stream",
     "text": [
      "24/10/17 13:01:00 WARN GarbageCollectionMetrics: To enable non-built-in garbage collector(s) List(G1 Concurrent GC), users should configure it(them) to spark.eventLog.gcMetrics.youngGenerationGarbageCollectors or spark.eventLog.gcMetrics.oldGenerationGarbageCollectors\n"
     ]
    }
   ],
   "source": [
    "import pandas as pd\n",
    "\n",
    "data_pdf = pd.read_csv(\n",
    "    \"https://people.sc.fsu.edu/~jburkardt/data/csv/addresses.csv\",\n",
    "    names=[\"first_name\", \"last_name\", \"address\", \"region\", \"code\", \"postcode\"],\n",
    ")\n",
    "data_sdf = spark.createDataFrame(data_pdf)"
   ]
  },
  {
   "cell_type": "code",
   "execution_count": 4,
   "metadata": {},
   "outputs": [
    {
     "name": "stderr",
     "output_type": "stream",
     "text": [
      "                                                                                \r"
     ]
    },
    {
     "name": "stdout",
     "output_type": "stream",
     "text": [
      "+--------------------+---------+--------------------+-----------+----+--------+\n",
      "|          first_name|last_name|             address|     region|code|postcode|\n",
      "+--------------------+---------+--------------------+-----------+----+--------+\n",
      "|                John|      Doe|   120 jefferson st.|  Riverside|  NJ|    8075|\n",
      "|                Jack| McGinnis|        220 hobo Av.|      Phila|  PA|    9119|\n",
      "|       John \"Da Man\"|   Repici|   120 Jefferson St.|  Riverside|  NJ|    8075|\n",
      "|             Stephen|    Tyler|7452 Terrace \"At ...|   SomeTown|  SD|   91234|\n",
      "|                 NaN| Blankman|                 NaN|   SomeTown|  SD|     298|\n",
      "|Joan \"the bone\", ...|      Jet| 9th, at Terrace plc|Desert City|  CO|     123|\n",
      "+--------------------+---------+--------------------+-----------+----+--------+\n",
      "\n"
     ]
    }
   ],
   "source": [
    "data_sdf.show()"
   ]
  },
  {
   "cell_type": "code",
   "execution_count": 22,
   "metadata": {},
   "outputs": [],
   "source": [
    "import functools\n",
    "from pysparky.transformations import transforms, apply_cols\n",
    "from pysparky.schema_ext import filter_columns_by_datatype\n",
    "\n",
    "upper_cols_partial = functools.partial(apply_cols, col_func=F.upper)"
   ]
  },
  {
   "cell_type": "code",
   "execution_count": 23,
   "metadata": {},
   "outputs": [],
   "source": [
    "pipeline = (\n",
    "    (\n",
    "        upper_cols_partial,\n",
    "        {\"cols\": data_sdf.schema.filter_columns_by_datatype(T.StringType)},\n",
    "    ),\n",
    "    (lambda sdf: sdf.withColumn(\"postcode_plus_1\", F.col(\"postcode\") + 1), {}),\n",
    ")"
   ]
  },
  {
   "cell_type": "code",
   "execution_count": 24,
   "metadata": {},
   "outputs": [
    {
     "name": "stdout",
     "output_type": "stream",
     "text": [
      "+--------------------+---------+--------------------+-----------+----+--------+---------------+\n",
      "|          first_name|last_name|             address|     region|code|postcode|postcode_plus_1|\n",
      "+--------------------+---------+--------------------+-----------+----+--------+---------------+\n",
      "|                John|      Doe|   120 jefferson st.|  Riverside|  NJ|    8075|           8076|\n",
      "|                Jack| McGinnis|        220 hobo Av.|      Phila|  PA|    9119|           9120|\n",
      "|       John \"Da Man\"|   Repici|   120 Jefferson St.|  Riverside|  NJ|    8075|           8076|\n",
      "|             Stephen|    Tyler|7452 Terrace \"At ...|   SomeTown|  SD|   91234|          91235|\n",
      "|                 NaN| Blankman|                 NaN|   SomeTown|  SD|     298|            299|\n",
      "|Joan \"the bone\", ...|      Jet| 9th, at Terrace plc|Desert City|  CO|     123|            124|\n",
      "+--------------------+---------+--------------------+-----------+----+--------+---------------+\n",
      "\n"
     ]
    }
   ],
   "source": [
    "data_sdf.transforms(pipeline).show()"
   ]
  }
 ],
 "metadata": {
  "kernelspec": {
   "display_name": "Python 3",
   "language": "python",
   "name": "python3"
  },
  "language_info": {
   "codemirror_mode": {
    "name": "ipython",
    "version": 3
   },
   "file_extension": ".py",
   "mimetype": "text/x-python",
   "name": "python",
   "nbconvert_exporter": "python",
   "pygments_lexer": "ipython3",
   "version": "3.12.1"
  }
 },
 "nbformat": 4,
 "nbformat_minor": 2
}
