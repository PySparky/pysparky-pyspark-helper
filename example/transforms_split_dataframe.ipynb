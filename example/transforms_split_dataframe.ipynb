{
 "cells": [
  {
   "cell_type": "code",
   "execution_count": 1,
   "metadata": {},
   "outputs": [],
   "source": [
    "import sys, os\n",
    "\n",
    "# Enable importing pysparky\n",
    "sys.path.append(os.pardir)"
   ]
  },
  {
   "cell_type": "code",
   "execution_count": 2,
   "metadata": {},
   "outputs": [
    {
     "name": "stdout",
     "output_type": "stream",
     "text": [
      "3.5.5\n"
     ]
    },
    {
     "name": "stderr",
     "output_type": "stream",
     "text": [
      "25/06/16 14:56:13 WARN Utils: Your hostname, codespaces-66b7ee resolves to a loopback address: 127.0.0.1; using 10.0.1.198 instead (on interface eth0)\n",
      "25/06/16 14:56:13 WARN Utils: Set SPARK_LOCAL_IP if you need to bind to another address\n",
      "Setting default log level to \"WARN\".\n",
      "To adjust logging level use sc.setLogLevel(newLevel). For SparkR, use setLogLevel(newLevel).\n",
      "25/06/16 14:56:15 WARN NativeCodeLoader: Unable to load native-hadoop library for your platform... using builtin-java classes where applicable\n"
     ]
    }
   ],
   "source": [
    "import pyspark\n",
    "from pyspark.sql import SparkSession, DataFrame, Column\n",
    "from pyspark.sql import functions as F, types as T\n",
    "\n",
    "print(pyspark.__version__)\n",
    "\n",
    "spark = SparkSession.builder.getOrCreate()"
   ]
  },
  {
   "cell_type": "code",
   "execution_count": 9,
   "metadata": {},
   "outputs": [
    {
     "name": "stderr",
     "output_type": "stream",
     "text": [
      "25/06/16 15:01:24 WARN SparkSession: Using an existing Spark session; only runtime SQL configurations will take effect.\n"
     ]
    },
    {
     "name": "stdout",
     "output_type": "stream",
     "text": [
      "+-------+-----------+---+\n",
      "|   name| department|age|\n",
      "+-------+-----------+---+\n",
      "|  Alice|Engineering| 29|\n",
      "|    Bob|  Marketing| 35|\n",
      "|Charlie|Engineering| 32|\n",
      "|  Diana|         HR| 28|\n",
      "|  Ethan|  Marketing| 41|\n",
      "|  Fiona|         HR| 30|\n",
      "+-------+-----------+---+\n",
      "\n"
     ]
    }
   ],
   "source": [
    "from pyspark.sql import SparkSession\n",
    "from pyspark.sql.types import StructType, StructField, StringType, IntegerType\n",
    "\n",
    "# Start Spark session\n",
    "spark = SparkSession.builder.appName(\"SampleSplit\").getOrCreate()\n",
    "\n",
    "# Define schema\n",
    "schema = StructType([\n",
    "    StructField(\"name\", StringType(), True),\n",
    "    StructField(\"department\", StringType(), True),\n",
    "    StructField(\"age\", IntegerType(), True)\n",
    "])\n",
    "\n",
    "# Sample data\n",
    "data = [\n",
    "    (\"Alice\", \"Engineering\", 29),\n",
    "    (\"Bob\", \"Marketing\", 35),\n",
    "    (\"Charlie\", \"Engineering\", 32),\n",
    "    (\"Diana\", \"HR\", 28),\n",
    "    (\"Ethan\", \"Marketing\", 41),\n",
    "    (\"Fiona\", \"HR\", 30)\n",
    "]\n",
    "\n",
    "# Create DataFrame\n",
    "df = spark.createDataFrame(data, schema)\n",
    "\n",
    "# Show the DataFrame\n",
    "df.show()\n"
   ]
  },
  {
   "cell_type": "code",
   "execution_count": 18,
   "metadata": {},
   "outputs": [],
   "source": [
    "from pyspark.sql import DataFrame\n",
    "from typing import Union\n",
    "\n",
    "def split_dataframe_by_column_groups(\n",
    "    df: DataFrame,\n",
    "    column_name: str,\n",
    "    *value_groups: list[Union[str, int]]\n",
    ") -> tuple[DataFrame, ...]:\n",
    "    \"\"\"\n",
    "    Splits a DataFrame into multiple DataFrames based on groups of values in a specified column.\n",
    "\n",
    "    Parameters:\n",
    "    df (DataFrame): The input PySpark DataFrame.\n",
    "    column_name (str): The column to split on.\n",
    "    *value_groups (list): Variable number of value groups (each a list of values).\n",
    "\n",
    "    Returns:\n",
    "    tuple: A tuple of DataFrames, one for each group of values.\n",
    "    \"\"\"\n",
    "    return tuple(\n",
    "        df.filter(df[column_name].isin(group))\n",
    "        for group in value_groups\n",
    "    )\n"
   ]
  },
  {
   "cell_type": "code",
   "execution_count": 20,
   "metadata": {},
   "outputs": [
    {
     "name": "stdout",
     "output_type": "stream",
     "text": [
      "+-------+-----------+---+\n",
      "|   name| department|age|\n",
      "+-------+-----------+---+\n",
      "|  Alice|Engineering| 29|\n",
      "|Charlie|Engineering| 32|\n",
      "|  Diana|         HR| 28|\n",
      "|  Fiona|         HR| 30|\n",
      "+-------+-----------+---+\n",
      "\n",
      "+-----+----------+---+\n",
      "| name|department|age|\n",
      "+-----+----------+---+\n",
      "|  Bob| Marketing| 35|\n",
      "|Ethan| Marketing| 41|\n",
      "+-----+----------+---+\n",
      "\n"
     ]
    }
   ],
   "source": [
    "# Sample usage with the earlier DataFrame\n",
    "group1 = [\"HR\", \"Engineering\"]\n",
    "group2 = \"Marketing\"\n",
    "\n",
    "df1, df2 = split_dataframe_by_column_groups(df, \"department\", group1, group2)\n",
    "\n",
    "df1.show()  # Shows rows where department is HR or Engineering\n",
    "df2.show()  # Shows rows where department is Marketing\n"
   ]
  },
  {
   "cell_type": "code",
   "execution_count": null,
   "metadata": {},
   "outputs": [],
   "source": []
  }
 ],
 "metadata": {
  "kernelspec": {
   "display_name": "Python 3",
   "language": "python",
   "name": "python3"
  },
  "language_info": {
   "codemirror_mode": {
    "name": "ipython",
    "version": 3
   },
   "file_extension": ".py",
   "mimetype": "text/x-python",
   "name": "python",
   "nbconvert_exporter": "python",
   "pygments_lexer": "ipython3",
   "version": "3.12.1"
  }
 },
 "nbformat": 4,
 "nbformat_minor": 2
}
