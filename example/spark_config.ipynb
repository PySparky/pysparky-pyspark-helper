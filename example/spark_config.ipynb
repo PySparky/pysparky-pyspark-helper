{
 "cells": [
  {
   "cell_type": "code",
   "execution_count": 1,
   "id": "38a378e9",
   "metadata": {},
   "outputs": [],
   "source": [
    "import sys, os\n",
    "\n",
    "# Enable importing pysparky\n",
    "sys.path.append(os.pardir)"
   ]
  },
  {
   "cell_type": "code",
   "execution_count": 2,
   "id": "7f4235eb",
   "metadata": {},
   "outputs": [
    {
     "data": {
      "text/plain": [
       "[]"
      ]
     },
     "execution_count": 2,
     "metadata": {},
     "output_type": "execute_result"
    }
   ],
   "source": [
    "from pyspark import SparkConf\n",
    "\n",
    "conf = SparkConf(loadDefaults=True)\n",
    "conf.getAll()\n"
   ]
  },
  {
   "cell_type": "code",
   "execution_count": 4,
   "id": "9a5e3d9e",
   "metadata": {},
   "outputs": [
    {
     "data": {
      "text/plain": [
       "[('spark.sql.extensions',\n",
       "  'org.apache.iceberg.spark.extensions.IcebergSparkSessionExtensions'),\n",
       " ('spark.sql.defaultCatalog', 'catalog_name'),\n",
       " ('spark.sql.catalog.catalog_name', 'org.apache.iceberg.spark.SparkCatalog'),\n",
       " ('spark.sql.catalog.catalog_name.warehouse', 'table_bucket_arn'),\n",
       " ('spark.sql.catalog.catalog_name.catalog-impl',\n",
       "  'software.amazon.s3tables.iceberg.S3TablesCatalog'),\n",
       " ('spark.jars.packages',\n",
       "  'org.apache.iceberg:iceberg-spark-runtime-3.5_2.12:1.6.1,software.amazon.awssdk:s3tables:2.29.26,software.amazon.s3tables:s3-tables-catalog-for-iceberg:0.1.5')]"
      ]
     },
     "execution_count": 4,
     "metadata": {},
     "output_type": "execute_result"
    }
   ],
   "source": [
    "from pysparky import spark_configs\n",
    "\n",
    "spark_configs.AwsS3TablesSparkConfig(\n",
    "    catalog_name = \"catalog_name\",\n",
    "    table_bucket_arn = \"table_bucket_arn\"\n",
    ").get_spark_conf().getAll()"
   ]
  },
  {
   "cell_type": "code",
   "execution_count": 5,
   "id": "ed48efb6",
   "metadata": {},
   "outputs": [
    {
     "data": {
      "text/plain": [
       "{'spark.sql.extensions': 'org.apache.iceberg.spark.extensions.IcebergSparkSessionExtensions',\n",
       " 'spark.sql.defaultCatalog': 'catalog_name',\n",
       " 'spark.sql.catalog.catalog_name': 'org.apache.iceberg.spark.SparkCatalog',\n",
       " 'spark.sql.catalog.catalog_name.warehouse': 'table_bucket_arn',\n",
       " 'spark.sql.catalog.catalog_name.catalog-impl': 'software.amazon.s3tables.iceberg.S3TablesCatalog',\n",
       " 'spark.jars.packages': 'org.apache.iceberg:iceberg-spark-runtime-3.5_2.12:1.6.1,software.amazon.awssdk:s3tables:2.29.26,software.amazon.s3tables:s3-tables-catalog-for-iceberg:0.1.5'}"
      ]
     },
     "execution_count": 5,
     "metadata": {},
     "output_type": "execute_result"
    }
   ],
   "source": [
    "spark_configs.AwsS3TablesSparkConfig(\n",
    "    catalog_name = \"catalog_name\",\n",
    "    table_bucket_arn = \"table_bucket_arn\"\n",
    ").to_spark_config_map()"
   ]
  },
  {
   "cell_type": "code",
   "execution_count": null,
   "id": "fbf18f34",
   "metadata": {},
   "outputs": [],
   "source": []
  }
 ],
 "metadata": {
  "kernelspec": {
   "display_name": "Python 3",
   "language": "python",
   "name": "python3"
  },
  "language_info": {
   "codemirror_mode": {
    "name": "ipython",
    "version": 3
   },
   "file_extension": ".py",
   "mimetype": "text/x-python",
   "name": "python",
   "nbconvert_exporter": "python",
   "pygments_lexer": "ipython3",
   "version": "3.12.1"
  }
 },
 "nbformat": 4,
 "nbformat_minor": 5
}
