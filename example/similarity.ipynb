{
 "cells": [
  {
   "cell_type": "code",
   "execution_count": 1,
   "metadata": {},
   "outputs": [
    {
     "name": "stdout",
     "output_type": "stream",
     "text": [
      "3.5.3\n"
     ]
    },
    {
     "name": "stderr",
     "output_type": "stream",
     "text": [
      "24/09/27 17:16:01 WARN Utils: Your hostname, codespaces-5d8da8 resolves to a loopback address: 127.0.0.1; using 10.0.0.242 instead (on interface eth0)\n",
      "24/09/27 17:16:01 WARN Utils: Set SPARK_LOCAL_IP if you need to bind to another address\n",
      "Setting default log level to \"WARN\".\n",
      "To adjust logging level use sc.setLogLevel(newLevel). For SparkR, use setLogLevel(newLevel).\n",
      "24/09/27 17:16:02 WARN NativeCodeLoader: Unable to load native-hadoop library for your platform... using builtin-java classes where applicable\n"
     ]
    },
    {
     "name": "stderr",
     "output_type": "stream",
     "text": [
      "24/09/27 17:16:16 WARN GarbageCollectionMetrics: To enable non-built-in garbage collector(s) List(G1 Concurrent GC), users should configure it(them) to spark.eventLog.gcMetrics.youngGenerationGarbageCollectors or spark.eventLog.gcMetrics.oldGenerationGarbageCollectors\n"
     ]
    }
   ],
   "source": [
    "import pyspark\n",
    "from pyspark.sql import SparkSession, DataFrame, Column\n",
    "from pyspark.sql import functions as F, types as T\n",
    "\n",
    "from pysparky.schema_ext import filter_columns_by_datatype\n",
    "\n",
    "print(pyspark.__version__)\n",
    "\n",
    "spark = SparkSession.builder.getOrCreate()"
   ]
  },
  {
   "cell_type": "code",
   "execution_count": null,
   "metadata": {},
   "outputs": [],
   "source": [
    "def levenshtein(column1: Column, column2: Column) -> Column:\n",
    "    \"\"\"\n",
    "    Calculate the Levenshtein distance between two columns.\n",
    "\n",
    "    Parameters:\n",
    "        column1 (Column): The first column to compare.\n",
    "        column2 (Column): The second column to compare.\n",
    "\n",
    "    Returns:\n",
    "        Column: A column containing the Levenshtein distance between the two input columns.\n",
    "    \"\"\"\n",
    "    return F.levenshtein(column1, column2)"
   ]
  },
  {
   "cell_type": "code",
   "execution_count": null,
   "metadata": {},
   "outputs": [],
   "source": [
    "def exact_comparison(column1: Column, column2: Column) -> Column:\n",
    "    \"\"\"\n",
    "    Perform an exact comparison between two columns and return a new column indicating the match.\n",
    "\n",
    "    Args:\n",
    "        column1 (Column): The first column to compare.\n",
    "        column2 (Column): The second column to compare.\n",
    "\n",
    "    Returns:\n",
    "        Column: A new column with integer values (1 for match, 0 for no match) indicating the exact match.\n",
    "    \"\"\"\n",
    "    return (column1 == column2).cast(\"int\").alias(\"exact_match\")"
   ]
  },
  {
   "cell_type": "code",
   "execution_count": 15,
   "metadata": {},
   "outputs": [],
   "source": [
    "def similarity(column1, column2):\n",
    "    return (column1 == column2).cast(\"int\").alias(\"exact_match\")"
   ]
  },
  {
   "cell_type": "code",
   "execution_count": 16,
   "metadata": {},
   "outputs": [
    {
     "name": "stdout",
     "output_type": "stream",
     "text": [
      "+-----------+\n",
      "|exact_match|\n",
      "+-----------+\n",
      "|          0|\n",
      "+-----------+\n",
      "\n"
     ]
    }
   ],
   "source": [
    "spark.createDataFrame([(\"David Smith\", \"David Richardson Smith\")]).select(\n",
    "    similarity(F.col(\"_1\"), F.col(\"_2\"))\n",
    ").show()"
   ]
  },
  {
   "cell_type": "code",
   "execution_count": 18,
   "metadata": {},
   "outputs": [
    {
     "data": {
      "text/plain": [
       "3"
      ]
     },
     "execution_count": 18,
     "metadata": {},
     "output_type": "execute_result"
    }
   ],
   "source": [
    "\n",
    "str1 = \"jon\"\n",
    "str2 = \"john\"\n",
    "\n",
    "len(set(str1).intersection(set(str2)))"
   ]
  },
  {
   "cell_type": "code",
   "execution_count": null,
   "metadata": {},
   "outputs": [],
   "source": []
  }
 ],
 "metadata": {
  "kernelspec": {
   "display_name": "Python 3",
   "language": "python",
   "name": "python3"
  },
  "language_info": {
   "codemirror_mode": {
    "name": "ipython",
    "version": 3
   },
   "file_extension": ".py",
   "mimetype": "text/x-python",
   "name": "python",
   "nbconvert_exporter": "python",
   "pygments_lexer": "ipython3",
   "version": "3.12.1"
  }
 },
 "nbformat": 4,
 "nbformat_minor": 2
}
