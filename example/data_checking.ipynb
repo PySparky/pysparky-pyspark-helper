{
 "cells": [
  {
   "cell_type": "code",
   "execution_count": 1,
   "metadata": {},
   "outputs": [],
   "source": [
    "import sys, os\n",
    "\n",
    "# Enable importing pysparky\n",
    "sys.path.append(os.pardir)"
   ]
  },
  {
   "cell_type": "code",
   "execution_count": 2,
   "metadata": {},
   "outputs": [
    {
     "name": "stdout",
     "output_type": "stream",
     "text": [
      "3.5.2\n"
     ]
    },
    {
     "name": "stderr",
     "output_type": "stream",
     "text": [
      "24/10/21 21:28:44 WARN Utils: Your hostname, codespaces-0aafae resolves to a loopback address: 127.0.0.1; using 10.0.10.187 instead (on interface eth0)\n",
      "24/10/21 21:28:44 WARN Utils: Set SPARK_LOCAL_IP if you need to bind to another address\n",
      "Setting default log level to \"WARN\".\n",
      "To adjust logging level use sc.setLogLevel(newLevel). For SparkR, use setLogLevel(newLevel).\n",
      "24/10/21 21:28:45 WARN NativeCodeLoader: Unable to load native-hadoop library for your platform... using builtin-java classes where applicable\n"
     ]
    }
   ],
   "source": [
    "import pyspark\n",
    "from pyspark.sql import SparkSession, DataFrame, Column\n",
    "from pyspark.sql import functions as F, types as T\n",
    "\n",
    "print(pyspark.__version__)\n",
    "\n",
    "spark = SparkSession.builder.getOrCreate()"
   ]
  },
  {
   "cell_type": "code",
   "execution_count": 3,
   "metadata": {},
   "outputs": [],
   "source": [
    "from pysparky import spark_ext as spark_\n",
    "from pysparky import functions as F_\n",
    "from pysparky import enabler\n",
    "\n",
    "from pysparky import transformations as te"
   ]
  },
  {
   "cell_type": "code",
   "execution_count": 4,
   "metadata": {},
   "outputs": [],
   "source": [
    "import pandas as pd\n",
    "\n",
    "data_pdf = pd.read_csv(\n",
    "    \"https://people.sc.fsu.edu/~jburkardt/data/csv/addresses.csv\",\n",
    "    names=[\"first_name\", \"last_name\", \"address\", \"region\", \"code\", \"postcode\"],\n",
    ")\n",
    "data_sdf = spark.createDataFrame(data_pdf)"
   ]
  },
  {
   "cell_type": "code",
   "execution_count": 5,
   "metadata": {},
   "outputs": [
    {
     "name": "stderr",
     "output_type": "stream",
     "text": [
      "                                                                                \r"
     ]
    },
    {
     "name": "stdout",
     "output_type": "stream",
     "text": [
      "+--------------------+---------+--------------------+-----------+----+--------+\n",
      "|          first_name|last_name|             address|     region|code|postcode|\n",
      "+--------------------+---------+--------------------+-----------+----+--------+\n",
      "|                John|      Doe|   120 jefferson st.|  Riverside|  NJ|    8075|\n",
      "|                Jack| McGinnis|        220 hobo Av.|      Phila|  PA|    9119|\n",
      "|       John \"Da Man\"|   Repici|   120 Jefferson St.|  Riverside|  NJ|    8075|\n",
      "|             Stephen|    Tyler|7452 Terrace \"At ...|   SomeTown|  SD|   91234|\n",
      "|                 NaN| Blankman|                 NaN|   SomeTown|  SD|     298|\n",
      "|Joan \"the bone\", ...|      Jet| 9th, at Terrace plc|Desert City|  CO|     123|\n",
      "+--------------------+---------+--------------------+-----------+----+--------+\n",
      "\n"
     ]
    }
   ],
   "source": [
    "data_sdf.show()"
   ]
  },
  {
   "cell_type": "code",
   "execution_count": 6,
   "metadata": {},
   "outputs": [],
   "source": [
    "from pysparky.data_validator import DataValidator, ValidationRule"
   ]
  },
  {
   "cell_type": "code",
   "execution_count": 7,
   "metadata": {},
   "outputs": [
    {
     "name": "stdout",
     "output_type": "stream",
     "text": [
      "+--------------------+---------+--------------------+-----------+----+--------+----------------+---------------+-------------+------------+----------+--------------+\n",
      "|          first_name|last_name|             address|     region|code|postcode|first_name_check|last_name_check|address_check|region_check|code_check|postcode_check|\n",
      "+--------------------+---------+--------------------+-----------+----+--------+----------------+---------------+-------------+------------+----------+--------------+\n",
      "|                John|      Doe|   120 jefferson st.|  Riverside|  NJ|    8075|            true|           true|         true|        true|     false|          true|\n",
      "|                Jack| McGinnis|        220 hobo Av.|      Phila|  PA|    9119|            true|           true|         true|        true|     false|          true|\n",
      "|       John \"Da Man\"|   Repici|   120 Jefferson St.|  Riverside|  NJ|    8075|            true|           true|         true|        true|     false|          true|\n",
      "|             Stephen|    Tyler|7452 Terrace \"At ...|   SomeTown|  SD|   91234|            true|           true|         true|        true|      true|          true|\n",
      "|                 NaN| Blankman|                 NaN|   SomeTown|  SD|     298|            true|           true|         true|        true|     false|          true|\n",
      "|Joan \"the bone\", ...|      Jet| 9th, at Terrace plc|Desert City|  CO|     123|            true|           true|         true|        true|      true|          true|\n",
      "+--------------------+---------+--------------------+-----------+----+--------+----------------+---------------+-------------+------------+----------+--------------+\n",
      "\n",
      "+-------------+---------+-----------------+---------+----+--------+----------------+---------------+-------------+------------+----------+--------------+\n",
      "|   first_name|last_name|          address|   region|code|postcode|first_name_check|last_name_check|address_check|region_check|code_check|postcode_check|\n",
      "+-------------+---------+-----------------+---------+----+--------+----------------+---------------+-------------+------------+----------+--------------+\n",
      "|         John|      Doe|120 jefferson st.|Riverside|  NJ|    8075|            true|           true|         true|        true|     false|          true|\n",
      "|         Jack| McGinnis|     220 hobo Av.|    Phila|  PA|    9119|            true|           true|         true|        true|     false|          true|\n",
      "|John \"Da Man\"|   Repici|120 Jefferson St.|Riverside|  NJ|    8075|            true|           true|         true|        true|     false|          true|\n",
      "|          NaN| Blankman|              NaN| SomeTown|  SD|     298|            true|           true|         true|        true|     false|          true|\n",
      "+-------------+---------+-----------------+---------+----+--------+----------------+---------------+-------------+------------+----------+--------------+\n",
      "\n",
      "+--------------------+---------+--------------------+-----------+----+--------+\n",
      "|          first_name|last_name|             address|     region|code|postcode|\n",
      "+--------------------+---------+--------------------+-----------+----+--------+\n",
      "|             Stephen|    Tyler|7452 Terrace \"At ...|   SomeTown|  SD|   91234|\n",
      "|Joan \"the bone\", ...|      Jet| 9th, at Terrace plc|Desert City|  CO|     123|\n",
      "+--------------------+---------+--------------------+-----------+----+--------+\n",
      "\n",
      "+--------------------+---------+--------------------+-----------+----+--------+----------------+---------------+-------------+------------+----------+--------------+\n",
      "|          first_name|last_name|             address|     region|code|postcode|first_name_check|last_name_check|address_check|region_check|code_check|postcode_check|\n",
      "+--------------------+---------+--------------------+-----------+----+--------+----------------+---------------+-------------+------------+----------+--------------+\n",
      "|                John|      Doe|   120 jefferson st.|  Riverside|  NJ|    8075|            true|           true|         true|        true|     false|          true|\n",
      "|                Jack| McGinnis|        220 hobo Av.|      Phila|  PA|    9119|            true|           true|         true|        true|     false|          true|\n",
      "|       John \"Da Man\"|   Repici|   120 Jefferson St.|  Riverside|  NJ|    8075|            true|           true|         true|        true|     false|          true|\n",
      "|             Stephen|    Tyler|7452 Terrace \"At ...|   SomeTown|  SD|   91234|            true|           true|         true|        true|      true|          true|\n",
      "|                 NaN| Blankman|                 NaN|   SomeTown|  SD|     298|            true|           true|         true|        true|     false|          true|\n",
      "|Joan \"the bone\", ...|      Jet| 9th, at Terrace plc|Desert City|  CO|     123|            true|           true|         true|        true|      true|          true|\n",
      "+--------------------+---------+--------------------+-----------+----+--------+----------------+---------------+-------------+------------+----------+--------------+\n",
      "\n"
     ]
    }
   ],
   "source": [
    "ValidationRules = [\n",
    "    ValidationRule(\"first_name_check\", F_.printable_only(\"first_name\")),\n",
    "    ValidationRule(\"last_name_check\", F_.printable_only(\"last_name\")),\n",
    "    ValidationRule(\"address_check\", F_.printable_only(\"address\")),\n",
    "    ValidationRule(\"region_check\", F_.printable_only(\"region\")),\n",
    "    ValidationRule(\"code_check\", [F_.two_character_only(\"code\")]),\n",
    "    ValidationRule(\"postcode_check\", F_.printable_only(\"postcode\")),\n",
    "]\n",
    "\n",
    "validator = DataValidator(ValidationRules)\n",
    "validator.apply_conditions(data_sdf).show()\n",
    "validator.filter_invalid(data_sdf).show()\n",
    "validator.filter_valid(data_sdf).select(data_sdf.columns).show()\n",
    "\n",
    "data_sdf.withColumns(validator.query_map).show()"
   ]
  },
  {
   "cell_type": "code",
   "execution_count": 8,
   "metadata": {},
   "outputs": [
    {
     "name": "stdout",
     "output_type": "stream",
     "text": [
      "+--------------------+---------+--------------------+-----------+----+--------+----------------+---------------+-------------+------------+----------+--------------+\n",
      "|          first_name|last_name|             address|     region|code|postcode|first_name_check|last_name_check|address_check|region_check|code_check|postcode_check|\n",
      "+--------------------+---------+--------------------+-----------+----+--------+----------------+---------------+-------------+------------+----------+--------------+\n",
      "|                John|      Doe|   120 jefferson st.|  Riverside|  NJ|    8075|            true|           true|         true|        true|     false|          true|\n",
      "|                Jack| McGinnis|        220 hobo Av.|      Phila|  PA|    9119|            true|           true|         true|        true|     false|          true|\n",
      "|       John \"Da Man\"|   Repici|   120 Jefferson St.|  Riverside|  NJ|    8075|            true|           true|         true|        true|     false|          true|\n",
      "|             Stephen|    Tyler|7452 Terrace \"At ...|   SomeTown|  SD|   91234|            true|           true|         true|        true|      true|          true|\n",
      "|                 NaN| Blankman|                 NaN|   SomeTown|  SD|     298|            true|           true|         true|        true|     false|          true|\n",
      "|Joan \"the bone\", ...|      Jet| 9th, at Terrace plc|Desert City|  CO|     123|            true|           true|         true|        true|      true|          true|\n",
      "+--------------------+---------+--------------------+-----------+----+--------+----------------+---------------+-------------+------------+----------+--------------+\n",
      "\n",
      "+-------------+---------+-----------------+---------+----+--------+----------------+---------------+-------------+------------+----------+--------------+\n",
      "|   first_name|last_name|          address|   region|code|postcode|first_name_check|last_name_check|address_check|region_check|code_check|postcode_check|\n",
      "+-------------+---------+-----------------+---------+----+--------+----------------+---------------+-------------+------------+----------+--------------+\n",
      "|         John|      Doe|120 jefferson st.|Riverside|  NJ|    8075|            true|           true|         true|        true|     false|          true|\n",
      "|         Jack| McGinnis|     220 hobo Av.|    Phila|  PA|    9119|            true|           true|         true|        true|     false|          true|\n",
      "|John \"Da Man\"|   Repici|120 Jefferson St.|Riverside|  NJ|    8075|            true|           true|         true|        true|     false|          true|\n",
      "|          NaN| Blankman|              NaN| SomeTown|  SD|     298|            true|           true|         true|        true|     false|          true|\n",
      "+-------------+---------+-----------------+---------+----+--------+----------------+---------------+-------------+------------+----------+--------------+\n",
      "\n",
      "+--------------------+---------+--------------------+-----------+----+--------+\n",
      "|          first_name|last_name|             address|     region|code|postcode|\n",
      "+--------------------+---------+--------------------+-----------+----+--------+\n",
      "|             Stephen|    Tyler|7452 Terrace \"At ...|   SomeTown|  SD|   91234|\n",
      "|Joan \"the bone\", ...|      Jet| 9th, at Terrace plc|Desert City|  CO|     123|\n",
      "+--------------------+---------+--------------------+-----------+----+--------+\n",
      "\n",
      "+--------------------+---------+--------------------+-----------+----+--------+----------------+---------------+-------------+------------+----------+--------------+\n",
      "|          first_name|last_name|             address|     region|code|postcode|first_name_check|last_name_check|address_check|region_check|code_check|postcode_check|\n",
      "+--------------------+---------+--------------------+-----------+----+--------+----------------+---------------+-------------+------------+----------+--------------+\n",
      "|                John|      Doe|   120 jefferson st.|  Riverside|  NJ|    8075|            true|           true|         true|        true|     false|          true|\n",
      "|                Jack| McGinnis|        220 hobo Av.|      Phila|  PA|    9119|            true|           true|         true|        true|     false|          true|\n",
      "|       John \"Da Man\"|   Repici|   120 Jefferson St.|  Riverside|  NJ|    8075|            true|           true|         true|        true|     false|          true|\n",
      "|             Stephen|    Tyler|7452 Terrace \"At ...|   SomeTown|  SD|   91234|            true|           true|         true|        true|      true|          true|\n",
      "|                 NaN| Blankman|                 NaN|   SomeTown|  SD|     298|            true|           true|         true|        true|     false|          true|\n",
      "|Joan \"the bone\", ...|      Jet| 9th, at Terrace plc|Desert City|  CO|     123|            true|           true|         true|        true|      true|          true|\n",
      "+--------------------+---------+--------------------+-----------+----+--------+----------------+---------------+-------------+------------+----------+--------------+\n",
      "\n"
     ]
    },
    {
     "name": "stderr",
     "output_type": "stream",
     "text": [
      "24/10/21 21:29:03 WARN GarbageCollectionMetrics: To enable non-built-in garbage collector(s) List(G1 Concurrent GC), users should configure it(them) to spark.eventLog.gcMetrics.youngGenerationGarbageCollectors or spark.eventLog.gcMetrics.oldGenerationGarbageCollectors\n"
     ]
    }
   ],
   "source": [
    "conditions = {\n",
    "    \"first_name_check\": F_.printable_only(\"first_name\"),\n",
    "    \"last_name_check\": F_.printable_only(\"last_name\"),\n",
    "    \"address_check\": F_.printable_only(\"address\"),\n",
    "    \"region_check\": F_.printable_only(\"region\"),\n",
    "    \"code_check\": [F_.two_character_only(\"code\")],\n",
    "    \"postcode_check\": F_.printable_only(\"postcode\"),\n",
    "}\n",
    "\n",
    "\n",
    "validator = DataValidator.from_dict(conditions)\n",
    "validator.apply_conditions(data_sdf).show()\n",
    "validator.filter_invalid(data_sdf).show()\n",
    "validator.filter_valid(data_sdf).select(data_sdf.columns).show()\n",
    "\n",
    "data_sdf.withColumns(validator.query_map).show()"
   ]
  },
  {
   "cell_type": "code",
   "execution_count": 14,
   "metadata": {},
   "outputs": [],
   "source": [
    "data = [(1, \"valid\"), (2, \"invalid\"), (3, \"valid\")]\n",
    "sdf = spark.createDataFrame(data, [\"id\", \"status\"])\n",
    "\n",
    "# Define validation rules\n",
    "rules_dict = {\"status_check\": [F.col(\"status\") == \"valid\"]}\n",
    "validator = DataValidator.from_dict(rules_dict)\n",
    "\n",
    "# Check query map\n",
    "query_map = validator.query_map\n",
    "result_data = sdf.withColumns(query_map).collect()\n",
    "expected_data = [(1, \"valid\", True), (2, \"invalid\", False), (3, \"valid\", True)]\n",
    "\n",
    "assert result_data == expected_data\n",
    "# assert \"status_check\" in query_map\n",
    "# assert query_map[\"status_check\"] == (F.col(\"status\") == \"valid\")"
   ]
  },
  {
   "cell_type": "code",
   "execution_count": 13,
   "metadata": {},
   "outputs": [
    {
     "data": {
      "text/plain": [
       "[Row(id=1, status='valid', status_check=True),\n",
       " Row(id=2, status='invalid', status_check=False),\n",
       " Row(id=3, status='valid', status_check=True)]"
      ]
     },
     "execution_count": 13,
     "metadata": {},
     "output_type": "execute_result"
    }
   ],
   "source": []
  },
  {
   "cell_type": "code",
   "execution_count": null,
   "metadata": {},
   "outputs": [],
   "source": []
  }
 ],
 "metadata": {
  "kernelspec": {
   "display_name": "Python 3",
   "language": "python",
   "name": "python3"
  },
  "language_info": {
   "codemirror_mode": {
    "name": "ipython",
    "version": 3
   },
   "file_extension": ".py",
   "mimetype": "text/x-python",
   "name": "python",
   "nbconvert_exporter": "python",
   "pygments_lexer": "ipython3",
   "version": "3.12.1"
  }
 },
 "nbformat": 4,
 "nbformat_minor": 2
}
