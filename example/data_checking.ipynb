{
 "cells": [
  {
   "cell_type": "code",
   "execution_count": 1,
   "metadata": {},
   "outputs": [],
   "source": [
    "import sys, os\n",
    "\n",
    "# Enable importing pysparky\n",
    "sys.path.append(os.pardir)"
   ]
  },
  {
   "cell_type": "code",
   "execution_count": 2,
   "metadata": {},
   "outputs": [
    {
     "name": "stdout",
     "output_type": "stream",
     "text": [
      "3.5.2\n"
     ]
    },
    {
     "name": "stderr",
     "output_type": "stream",
     "text": [
      "24/10/21 15:44:14 WARN Utils: Your hostname, codespaces-0aafae resolves to a loopback address: 127.0.0.1; using 10.0.10.95 instead (on interface eth0)\n",
      "24/10/21 15:44:14 WARN Utils: Set SPARK_LOCAL_IP if you need to bind to another address\n",
      "Setting default log level to \"WARN\".\n",
      "To adjust logging level use sc.setLogLevel(newLevel). For SparkR, use setLogLevel(newLevel).\n",
      "24/10/21 15:44:17 WARN NativeCodeLoader: Unable to load native-hadoop library for your platform... using builtin-java classes where applicable\n"
     ]
    }
   ],
   "source": [
    "import pyspark\n",
    "from pyspark.sql import SparkSession, DataFrame, Column\n",
    "from pyspark.sql import functions as F, types as T\n",
    "\n",
    "print(pyspark.__version__)\n",
    "\n",
    "spark = SparkSession.builder.getOrCreate()"
   ]
  },
  {
   "cell_type": "code",
   "execution_count": 3,
   "metadata": {},
   "outputs": [],
   "source": [
    "from pysparky import spark_ext as spark_\n",
    "from pysparky import functions as F_\n",
    "from pysparky import enabler\n",
    "\n",
    "from pysparky import transformations as te"
   ]
  },
  {
   "cell_type": "code",
   "execution_count": 4,
   "metadata": {},
   "outputs": [
    {
     "name": "stderr",
     "output_type": "stream",
     "text": [
      "24/10/21 15:44:33 WARN GarbageCollectionMetrics: To enable non-built-in garbage collector(s) List(G1 Concurrent GC), users should configure it(them) to spark.eventLog.gcMetrics.youngGenerationGarbageCollectors or spark.eventLog.gcMetrics.oldGenerationGarbageCollectors\n"
     ]
    }
   ],
   "source": [
    "import pandas as pd\n",
    "\n",
    "data_pdf = pd.read_csv(\n",
    "    \"https://people.sc.fsu.edu/~jburkardt/data/csv/addresses.csv\",\n",
    "    names=[\"first_name\", \"last_name\", \"address\", \"region\", \"code\", \"postcode\"],\n",
    ")\n",
    "data_sdf = spark.createDataFrame(data_pdf)"
   ]
  },
  {
   "cell_type": "code",
   "execution_count": 5,
   "metadata": {},
   "outputs": [
    {
     "name": "stderr",
     "output_type": "stream",
     "text": [
      "                                                                                \r"
     ]
    },
    {
     "name": "stdout",
     "output_type": "stream",
     "text": [
      "+--------------------+---------+--------------------+-----------+----+--------+\n",
      "|          first_name|last_name|             address|     region|code|postcode|\n",
      "+--------------------+---------+--------------------+-----------+----+--------+\n",
      "|                John|      Doe|   120 jefferson st.|  Riverside|  NJ|    8075|\n",
      "|                Jack| McGinnis|        220 hobo Av.|      Phila|  PA|    9119|\n",
      "|       John \"Da Man\"|   Repici|   120 Jefferson St.|  Riverside|  NJ|    8075|\n",
      "|             Stephen|    Tyler|7452 Terrace \"At ...|   SomeTown|  SD|   91234|\n",
      "|                 NaN| Blankman|                 NaN|   SomeTown|  SD|     298|\n",
      "|Joan \"the bone\", ...|      Jet| 9th, at Terrace plc|Desert City|  CO|     123|\n",
      "+--------------------+---------+--------------------+-----------+----+--------+\n",
      "\n"
     ]
    }
   ],
   "source": [
    "data_sdf.show()"
   ]
  },
  {
   "cell_type": "code",
   "execution_count": 36,
   "metadata": {},
   "outputs": [],
   "source": [
    "from dataclasses import dataclass, field\n",
    "\n",
    "\n",
    "@dataclass\n",
    "class CheckField:\n",
    "    check_name: str\n",
    "    criteria: list[int]\n",
    "    criteria_and: int = field(init=False)\n",
    "\n",
    "    def __post_init__(self):\n",
    "        self.criteria_and = F_.condition_and(*enabler.ensure_list(self.criteria))\n",
    "\n",
    "\n",
    "@dataclass\n",
    "class Criteria:\n",
    "    checks: list[CheckField]\n",
    "\n",
    "    @classmethod\n",
    "    def fromDict(cls, data: dict[str, list[int]]):\n",
    "        checks = [CheckField(name, criteria) for name, criteria in data.items()]\n",
    "        return cls(checks=checks)  # Adjust sdf as needed\n",
    "\n",
    "    @property\n",
    "    def criteria_to_query(self):\n",
    "        return {\n",
    "            check_field.check_name: check_field.criteria_and\n",
    "            for check_field in self.checks\n",
    "        }\n",
    "\n",
    "    def check_matrix(self, sdf):\n",
    "        self.sdf = sdf\n",
    "        return sdf.withColumns(self.criteria_to_query)\n",
    "\n",
    "    def false_data(self, sdf):\n",
    "        return te.filters(\n",
    "            self.check_matrix(sdf),\n",
    "            [\n",
    "                # Either cases is False\n",
    "                F.col(column_name) == False\n",
    "                for column_name in self.criteria_to_query.keys()\n",
    "            ],\n",
    "            operator_=\"or\",\n",
    "        )\n",
    "\n",
    "    def positive_data(self, sdf):\n",
    "        return te.filters(\n",
    "            self.check_matrix(sdf),\n",
    "            [\n",
    "                # All cases is True\n",
    "                F.col(column_name) == True\n",
    "                for column_name in self.criteria_to_query.keys()\n",
    "            ],\n",
    "            operator_=\"and\",\n",
    "        )"
   ]
  },
  {
   "cell_type": "code",
   "execution_count": 41,
   "metadata": {},
   "outputs": [
    {
     "name": "stdout",
     "output_type": "stream",
     "text": [
      "+--------------------+---------+--------------------+-----------+----+--------+----------------+---------------+-------------+------------+----------+--------------+\n",
      "|          first_name|last_name|             address|     region|code|postcode|first_name_check|last_name_check|address_check|region_check|code_check|postcode_check|\n",
      "+--------------------+---------+--------------------+-----------+----+--------+----------------+---------------+-------------+------------+----------+--------------+\n",
      "|                John|      Doe|   120 jefferson st.|  Riverside|  NJ|    8075|            true|           true|         true|        true|     false|          true|\n",
      "|                Jack| McGinnis|        220 hobo Av.|      Phila|  PA|    9119|            true|           true|         true|        true|     false|          true|\n",
      "|       John \"Da Man\"|   Repici|   120 Jefferson St.|  Riverside|  NJ|    8075|            true|           true|         true|        true|     false|          true|\n",
      "|             Stephen|    Tyler|7452 Terrace \"At ...|   SomeTown|  SD|   91234|            true|           true|         true|        true|      true|          true|\n",
      "|                 NaN| Blankman|                 NaN|   SomeTown|  SD|     298|            true|           true|         true|        true|     false|          true|\n",
      "|Joan \"the bone\", ...|      Jet| 9th, at Terrace plc|Desert City|  CO|     123|            true|           true|         true|        true|      true|          true|\n",
      "+--------------------+---------+--------------------+-----------+----+--------+----------------+---------------+-------------+------------+----------+--------------+\n",
      "\n",
      "+-------------+---------+-----------------+---------+----+--------+----------------+---------------+-------------+------------+----------+--------------+\n",
      "|   first_name|last_name|          address|   region|code|postcode|first_name_check|last_name_check|address_check|region_check|code_check|postcode_check|\n",
      "+-------------+---------+-----------------+---------+----+--------+----------------+---------------+-------------+------------+----------+--------------+\n",
      "|         John|      Doe|120 jefferson st.|Riverside|  NJ|    8075|            true|           true|         true|        true|     false|          true|\n",
      "|         Jack| McGinnis|     220 hobo Av.|    Phila|  PA|    9119|            true|           true|         true|        true|     false|          true|\n",
      "|John \"Da Man\"|   Repici|120 Jefferson St.|Riverside|  NJ|    8075|            true|           true|         true|        true|     false|          true|\n",
      "|          NaN| Blankman|              NaN| SomeTown|  SD|     298|            true|           true|         true|        true|     false|          true|\n",
      "+-------------+---------+-----------------+---------+----+--------+----------------+---------------+-------------+------------+----------+--------------+\n",
      "\n",
      "+--------------------+---------+--------------------+-----------+----+--------+\n",
      "|          first_name|last_name|             address|     region|code|postcode|\n",
      "+--------------------+---------+--------------------+-----------+----+--------+\n",
      "|             Stephen|    Tyler|7452 Terrace \"At ...|   SomeTown|  SD|   91234|\n",
      "|Joan \"the bone\", ...|      Jet| 9th, at Terrace plc|Desert City|  CO|     123|\n",
      "+--------------------+---------+--------------------+-----------+----+--------+\n",
      "\n"
     ]
    }
   ],
   "source": [
    "criteria = {\n",
    "    \"first_name_check\": F_.printable_only(\"first_name\"),\n",
    "    \"last_name_check\": F_.printable_only(\"last_name\"),\n",
    "    \"address_check\": F_.printable_only(\"address\"),\n",
    "    \"region_check\": F_.printable_only(\"region\"),\n",
    "    \"code_check\": [F_.two_character_only(\"code\")],\n",
    "    \"postcode_check\": F_.printable_only(\"postcode\"),\n",
    "}\n",
    "\n",
    "# print(Criteria.fromDict(criteria).criteria_to_query)\n",
    "Criteria.fromDict(criteria).check_matrix(data_sdf).show()\n",
    "Criteria.fromDict(criteria).false_data(data_sdf).show()\n",
    "Criteria.fromDict(criteria).positive_data(data_sdf).select(data_sdf.columns).show()\n",
    "\n",
    "# data_sdf.withColumns(Criteria.fromDict(criteria).criteria_to_query).show()"
   ]
  }
 ],
 "metadata": {
  "kernelspec": {
   "display_name": "Python 3",
   "language": "python",
   "name": "python3"
  },
  "language_info": {
   "codemirror_mode": {
    "name": "ipython",
    "version": 3
   },
   "file_extension": ".py",
   "mimetype": "text/x-python",
   "name": "python",
   "nbconvert_exporter": "python",
   "pygments_lexer": "ipython3",
   "version": "3.12.1"
  }
 },
 "nbformat": 4,
 "nbformat_minor": 2
}
